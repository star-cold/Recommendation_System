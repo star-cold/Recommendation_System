{
 "cells": [
  {
   "cell_type": "markdown",
   "metadata": {},
   "source": [
    "## python推荐系统库Surprise"
   ]
  },
  {
   "cell_type": "markdown",
   "metadata": {},
   "source": [
    "![](./Surprise.png)"
   ]
  },
  {
   "cell_type": "code",
   "execution_count": 17,
   "metadata": {},
   "outputs": [
    {
     "name": "stderr",
     "output_type": "stream",
     "text": [
      "/Users/wangboyuan/Library/Python/3.7/lib/python/site-packages/surprise/prediction_algorithms/algo_base.py:51: UserWarning: train() is deprecated. Use fit() instead\n",
      "  warnings.warn('train() is deprecated. Use fit() instead', UserWarning)\n"
     ]
    },
    {
     "name": "stdout",
     "output_type": "stream",
     "text": [
      "Estimating biases using als...\n",
      "Computing the pearson_baseline similarity matrix...\n",
      "Done computing similarity matrix.\n"
     ]
    },
    {
     "data": {
      "text/plain": [
       "<surprise.prediction_algorithms.knns.KNNBaseline at 0x11a8d5518>"
      ]
     },
     "execution_count": 17,
     "metadata": {},
     "output_type": "execute_result"
    }
   ],
   "source": [
    "\"\"\"\n",
    "以下的程序段告诉大家如何在协同过滤算法建模以后，根据一个item取回相似度最高的item，主要是用到algo.get_neighbors()这个函数\n",
    "\"\"\"\n",
    "\n",
    "from __future__ import (absolute_import, division, print_function,\n",
    "                        unicode_literals)\n",
    "import os\n",
    "import io\n",
    "\n",
    "from surprise import KNNBaseline\n",
    "from surprise import Dataset\n",
    "\n",
    "\n",
    "def read_item_names():\n",
    "    \"\"\"\n",
    "    获取电影名到电影id 和 电影id到电影名的映射\n",
    "    \"\"\"\n",
    "\n",
    "    file_name = 'ml-100k/u.item'\n",
    "    rid_to_name = {}\n",
    "    name_to_rid = {}\n",
    "    with io.open(file_name, 'r', encoding='ISO-8859-1') as f:\n",
    "        for line in f:\n",
    "            line = line.split('|')\n",
    "            rid_to_name[line[0]] = line[1]\n",
    "            name_to_rid[line[1]] = line[0]\n",
    "\n",
    "    return rid_to_name, name_to_rid\n",
    "\n",
    "\n",
    "# 首先，用算法计算相互间的相似度\n",
    "data = Dataset.load_builtin('ml-100k')\n",
    "trainset = data.build_full_trainset()\n",
    "sim_options = {'name': 'pearson_baseline', 'user_based': False}\n",
    "algo = KNNBaseline(sim_options=sim_options)\n",
    "algo.train(trainset)"
   ]
  },
  {
   "cell_type": "code",
   "execution_count": 18,
   "metadata": {},
   "outputs": [],
   "source": [
    "# 获取电影名到电影id 和 电影id到电影名的映射\n",
    "rid_to_name, name_to_rid = read_item_names()"
   ]
  },
  {
   "cell_type": "code",
   "execution_count": 19,
   "metadata": {},
   "outputs": [
    {
     "data": {
      "text/plain": [
       "'1'"
      ]
     },
     "execution_count": 19,
     "metadata": {},
     "output_type": "execute_result"
    }
   ],
   "source": [
    "# 拿出来Toy Story这部电影对应的item id\n",
    "toy_story_raw_id = name_to_rid['Toy Story (1995)']\n",
    "toy_story_raw_id"
   ]
  },
  {
   "cell_type": "code",
   "execution_count": 20,
   "metadata": {},
   "outputs": [
    {
     "data": {
      "text/plain": [
       "24"
      ]
     },
     "execution_count": 20,
     "metadata": {},
     "output_type": "execute_result"
    }
   ],
   "source": [
    "toy_story_inner_id = algo.trainset.to_inner_iid(toy_story_raw_id)\n",
    "toy_story_inner_id"
   ]
  },
  {
   "cell_type": "code",
   "execution_count": 21,
   "metadata": {},
   "outputs": [
    {
     "data": {
      "text/plain": [
       "[433, 101, 302, 309, 971, 95, 26, 561, 816, 347]"
      ]
     },
     "execution_count": 21,
     "metadata": {},
     "output_type": "execute_result"
    }
   ],
   "source": [
    "# 找到最近的10个邻居\n",
    "toy_story_neighbors = algo.get_neighbors(toy_story_inner_id, k=10)\n",
    "toy_story_neighbors"
   ]
  },
  {
   "cell_type": "code",
   "execution_count": 22,
   "metadata": {},
   "outputs": [
    {
     "name": "stdout",
     "output_type": "stream",
     "text": [
      "\n",
      "The 10 nearest neighbors of Toy Story are:\n",
      "Beauty and the Beast (1991)\n",
      "Raiders of the Lost Ark (1981)\n",
      "That Thing You Do! (1996)\n",
      "Lion King, The (1994)\n",
      "Craft, The (1996)\n",
      "Liar Liar (1997)\n",
      "Aladdin (1992)\n",
      "Cool Hand Luke (1967)\n",
      "Winnie the Pooh and the Blustery Day (1968)\n",
      "Indiana Jones and the Last Crusade (1989)\n"
     ]
    }
   ],
   "source": [
    "# 从近邻的id映射回电影名称\n",
    "toy_story_neighbors = (algo.trainset.to_raw_iid(inner_id)\n",
    "                       for inner_id in toy_story_neighbors)\n",
    "toy_story_neighbors = (rid_to_name[rid]\n",
    "                       for rid in toy_story_neighbors)\n",
    "\n",
    "print()\n",
    "print('The 10 nearest neighbors of Toy Story are:')\n",
    "for movie in toy_story_neighbors:\n",
    "    print(movie)"
   ]
  },
  {
   "cell_type": "code",
   "execution_count": 23,
   "metadata": {},
   "outputs": [
    {
     "name": "stdout",
     "output_type": "stream",
     "text": [
      "\n",
      "The 10 nearest neighbors of Toy Story are:\n",
      "Beauty and the Beast (1991)\n",
      "Raiders of the Lost Ark (1981)\n",
      "That Thing You Do! (1996)\n",
      "Lion King, The (1994)\n",
      "Craft, The (1996)\n",
      "Liar Liar (1997)\n",
      "Aladdin (1992)\n",
      "Cool Hand Luke (1967)\n",
      "Winnie the Pooh and the Blustery Day (1968)\n",
      "Indiana Jones and the Last Crusade (1989)\n"
     ]
    }
   ],
   "source": [
    "# 拿出来Toy Story这部电影对应的item id\n",
    "toy_story_raw_id = name_to_rid['Toy Story (1995)']\n",
    "toy_story_inner_id = algo.trainset.to_inner_iid(toy_story_raw_id)\n",
    "\n",
    "# 找到最近的10个邻居\n",
    "toy_story_neighbors = algo.get_neighbors(toy_story_inner_id, k=10)\n",
    "\n",
    "# 从近邻的id映射回电影名称\n",
    "toy_story_neighbors = (algo.trainset.to_raw_iid(inner_id)\n",
    "                       for inner_id in toy_story_neighbors)\n",
    "toy_story_neighbors = (rid_to_name[rid]\n",
    "                       for rid in toy_story_neighbors)\n",
    "\n",
    "print()\n",
    "print('The 10 nearest neighbors of Toy Story are:')\n",
    "for movie in toy_story_neighbors:\n",
    "    print(movie)"
   ]
  },
  {
   "cell_type": "markdown",
   "metadata": {},
   "source": [
    "#### 1.2 音乐预测的例子"
   ]
  },
  {
   "cell_type": "code",
   "execution_count": 32,
   "metadata": {},
   "outputs": [
    {
     "name": "stdout",
     "output_type": "stream",
     "text": [
      "加载歌单id到歌单名的映射字典完成...\n",
      "加载歌单名到歌单id的映射字典完成...\n",
      "构建数据集...\n"
     ]
    }
   ],
   "source": [
    "from __future__ import (absolute_import, division, print_function, unicode_literals)\n",
    "import os\n",
    "import io\n",
    "\n",
    "from surprise import KNNBaseline, Reader\n",
    "from surprise import Dataset\n",
    "\n",
    "import _pickle as cPickle\n",
    "\n",
    "id_name_dic = cPickle.load(open('popular_playlist.pkl','rb'), encoding='utf-8')\n",
    "print(\"加载歌单id到歌单名的映射字典完成...\")\n",
    "\n",
    "name_id_dic = {}\n",
    "for playlist_id in id_name_dic:\n",
    "    name_id_dic[id_name_dic[playlist_id]] = playlist_id\n",
    "print(\"加载歌单名到歌单id的映射字典完成...\")\n",
    "\n",
    "\n",
    "file_path = 'popular_music_suprise_format.txt'\n",
    "\n",
    "reader = Reader(line_format='user item rating timestamp', sep=',')\n",
    "\n",
    "music_data = Dataset.load_from_file(file_path, reader=reader)\n",
    "\n",
    "print(\"构建数据集...\")\n",
    "trainset = music_data.build_full_trainset()\n",
    "#sim_options = {'name': 'pearson_baseline', 'user_based': False}"
   ]
  },
  {
   "cell_type": "code",
   "execution_count": 36,
   "metadata": {},
   "outputs": [
    {
     "data": {
      "text/plain": [
       "50539"
      ]
     },
     "execution_count": 36,
     "metadata": {},
     "output_type": "execute_result"
    }
   ],
   "source": [
    "trainset.n_items"
   ]
  },
  {
   "cell_type": "code",
   "execution_count": 37,
   "metadata": {},
   "outputs": [
    {
     "data": {
      "text/plain": [
       "1076"
      ]
     },
     "execution_count": 37,
     "metadata": {},
     "output_type": "execute_result"
    }
   ],
   "source": [
    "trainset.n_users"
   ]
  },
  {
   "cell_type": "markdown",
   "metadata": {},
   "source": [
    "#### 1.2.1 模板之查找最近的user(在这里是歌单)"
   ]
  },
  {
   "cell_type": "code",
   "execution_count": 40,
   "metadata": {},
   "outputs": [
    {
     "name": "stdout",
     "output_type": "stream",
     "text": [
      "Start training model...\n",
      "Estimating biases using als...\n",
      "Computing the msd similarity matrix...\n",
      "Done computing similarity matrix.\n",
      "歌单名称 周杰伦公举歌曲大全(专辑发行顺序)，循环专\n",
      "歌单id 92187045\n",
      "内部id 839\n",
      "\n",
      "和歌单 《 周杰伦公举歌曲大全(专辑发行顺序)，循环专 》 最接近的10个歌单为：\n",
      "\n",
      "【情怀录】泱泱华夏，千古风华 0\n",
      "当过千评论的华语翻唱遇上“原唱”【更新】 1\n",
      "第四季中国好声音第三期原唱及翻唱 2\n",
      "【华语】暖心物语 纯白思念 3\n",
      "〖循环〗单曲循环是强迫症吗？ 4\n",
      "周杰伦地表最强演唱会2017520南京站曲目 5\n",
      "简单的爱总是那么吸引人 6\n",
      "别让时光偷走你上扬的嘴角 7\n",
      "大神爱翻唱1：华语篇 8\n",
      "国语VS闽南语 给你最强听觉冲击 9\n"
     ]
    }
   ],
   "source": [
    "print(\"Start training model...\")\n",
    "#sim_options = {'user_based': False}\n",
    "#algo = KNNBaseline(sim_options=sim_options)\n",
    "algo = KNNBaseline()\n",
    "algo.fit(trainset)\n",
    "\n",
    "current_playlist = list(name_id_dic.keys())[39]\n",
    "print(\"歌单名称\", current_playlist)\n",
    "\n",
    "# 取出近邻\n",
    "# 映射名字到id\n",
    "playlist_id = name_id_dic[current_playlist]\n",
    "print(\"歌单id\", playlist_id)\n",
    "# 取出来对应的内部user id => to_inner_uid\n",
    "playlist_inner_id = algo.trainset.to_inner_uid(playlist_id)\n",
    "print(\"内部id\", playlist_inner_id)\n",
    "\n",
    "playlist_neighbors = algo.get_neighbors(playlist_inner_id, k=10)\n",
    "\n",
    "# 把歌曲id转成歌曲名字\n",
    "# to_raw_uid映射回去\n",
    "playlist_neighbors = (algo.trainset.to_raw_uid(inner_id) for inner_id in playlist_neighbors)\n",
    "playlist_neighbors = (id_name_dic[playlist_id] for playlist_id in playlist_neighbors)\n",
    "\n",
    "print()\n",
    "print(\"和歌单 《\", current_playlist, \"》 最接近的10个歌单为：\\n\")\n",
    "for playlist in playlist_neighbors:\n",
    "    print(playlist, algo.trainset.to_inner_uid(name_id_dic[playlist]))"
   ]
  },
  {
   "cell_type": "code",
   "execution_count": 41,
   "metadata": {},
   "outputs": [
    {
     "name": "stdout",
     "output_type": "stream",
     "text": [
      "当过千评论的华语翻唱遇上“原唱”【更新】\n"
     ]
    }
   ],
   "source": [
    "# \n",
    "id1 = '118663384'\n",
    "print (id_name_dic[id1])\n",
    "# 当过千评论的华语翻唱遇上“原唱”【更新】"
   ]
  },
  {
   "cell_type": "code",
   "execution_count": 43,
   "metadata": {},
   "outputs": [
    {
     "name": "stdout",
     "output_type": "stream",
     "text": [
      "加载歌曲id到歌曲名的映射字典完成...\n",
      "加载歌曲名到歌曲id的映射字典完成...\n"
     ]
    }
   ],
   "source": [
    "import _pickle as cPickle\n",
    "# 重建歌曲id到歌曲名的映射字典\n",
    "song_id_name_dic = cPickle.load(open('popular_song.pkl','rb'), encoding='utf-8')\n",
    "print(\"加载歌曲id到歌曲名的映射字典完成...\")\n",
    "# 重建歌曲名到歌曲id的映射字典\n",
    "song_name_id_dic = {}\n",
    "for song_id in song_id_name_dic:\n",
    "    song_name_id_dic[song_id_name_dic[song_id]] = song_id\n",
    "print(\"加载歌曲名到歌曲id的映射字典完成...\")"
   ]
  },
  {
   "cell_type": "code",
   "execution_count": 47,
   "metadata": {},
   "outputs": [
    {
     "name": "stdout",
     "output_type": "stream",
     "text": [
      "user: 50         item: 5026       r_ui = 1.00   est = 1.00   {'was_impossible': False} Hymn For The Weekend\tColdplay\n",
      "user: 50         item: 4648       r_ui = 1.00   est = 1.00   {'was_impossible': False} Faded\tAlan Walker\n",
      "user: 50         item: 4634       r_ui = 1.00   est = 1.00   {'was_impossible': False} I Took A Pill In Ibiza (SeeB Remix)\tSeeB\n",
      "user: 50         item: 5027       r_ui = 1.00   est = 1.00   {'was_impossible': False} Cheap Thrills\tSia\n",
      "user: 50         item: 137        r_ui = 1.00   est = 1.00   {'was_impossible': False} 小幸运（Cover 田馥甄）\t金玟岐\n",
      "user: 50         item: 5028       r_ui = 1.00   est = 1.00   {'was_impossible': False} Sofia\tAlvaro Soler\n",
      "user: 50         item: 5029       r_ui = 1.00   est = 1.00   {'was_impossible': False} Lay It All On Me\tRudimental\n",
      "user: 50         item: 5030       r_ui = 1.00   est = 1.00   {'was_impossible': False} 恋の中\t新山詩織\n",
      "user: 50         item: 5031       r_ui = 1.00   est = 1.00   {'was_impossible': False} Heathens\ttwenty one pilots\n",
      "user: 50         item: 5032       r_ui = 1.00   est = 1.00   {'was_impossible': False} Up&Up (Radio Edit)\tColdplay\n",
      "user: 50         item: 5033       r_ui = 1.00   est = 1.00   {'was_impossible': False} 蝶々結び\tAimer\n",
      "user: 50         item: 5034       r_ui = 1.00   est = 1.00   {'was_impossible': False} 7 Years\tLukas Graham\n",
      "user: 50         item: 5035       r_ui = 1.00   est = 1.00   {'was_impossible': False} Adventure of a Lifetime\tColdplay\n",
      "user: 50         item: 5036       r_ui = 1.00   est = 1.00   {'was_impossible': False} Cake by the Ocean\tDNCE\n",
      "user: 50         item: 5037       r_ui = 1.00   est = 1.00   {'was_impossible': False} 裸足でSummer\t乃木坂46\n",
      "user: 50         item: 5038       r_ui = 1.00   est = 1.00   {'was_impossible': False} Photograph\tEd Sheeran\n",
      "user: 50         item: 5039       r_ui = 1.00   est = 1.00   {'was_impossible': False} 我要做你女朋友\tSunshine\n",
      "user: 50         item: 5040       r_ui = 1.00   est = 1.00   {'was_impossible': False} Lean On\tMajor Lazer\n",
      "user: 50         item: 4902       r_ui = 1.00   est = 1.00   {'was_impossible': False} 極楽浄土\tGARNiDELiA\n",
      "user: 50         item: 5041       r_ui = 1.00   est = 1.00   {'was_impossible': False} 語るなら未来を…\t欅坂46\n",
      "user: 50         item: 5042       r_ui = 1.00   est = 1.00   {'was_impossible': False} I Don't Know \t王诗安\n",
      "user: 50         item: 5043       r_ui = 1.00   est = 1.00   {'was_impossible': False} Sugar\tRobin Schulz\n",
      "user: 50         item: 2235       r_ui = 1.00   est = 1.00   {'was_impossible': False} 绅士\t薛之谦\n",
      "user: 50         item: 5044       r_ui = 1.00   est = 1.00   {'was_impossible': False} Stressed Out\ttwenty one pilots\n",
      "user: 50         item: 4666       r_ui = 1.00   est = 1.00   {'was_impossible': False} Closer\tThe Chainsmokers\n",
      "user: 50         item: 5045       r_ui = 1.00   est = 1.00   {'was_impossible': False} The Greatest \tSia\n",
      "user: 50         item: 2661       r_ui = 1.00   est = 1.00   {'was_impossible': False} 演员\t薛之谦\n",
      "user: 50         item: 5046       r_ui = 1.00   est = 1.00   {'was_impossible': False} This Is What You Came For \tCalvin Harris\n",
      "user: 50         item: 4817       r_ui = 1.00   est = 1.00   {'was_impossible': False} 前前前世 (movie ver.)\tRADWIMPS\n",
      "user: 50         item: 5047       r_ui = 1.00   est = 1.00   {'was_impossible': False} 世界には愛しかない\t欅坂46\n",
      "user: 50         item: 5048       r_ui = 1.00   est = 1.00   {'was_impossible': False} 恋\t星野源\n",
      "user: 50         item: 5049       r_ui = 1.00   est = 1.00   {'was_impossible': False} Perfect\tOne Direction\n",
      "user: 50         item: 5050       r_ui = 1.00   est = 1.00   {'was_impossible': False} 釣り堀\t西野七瀬\n",
      "user: 50         item: 5051       r_ui = 1.00   est = 1.00   {'was_impossible': False} ハルジオンが咲く頃\t乃木坂46\n",
      "user: 50         item: 5052       r_ui = 1.00   est = 1.00   {'was_impossible': False} 24K Magic\tBruno Mars\n",
      "user: 50         item: 4651       r_ui = 1.00   est = 1.00   {'was_impossible': False} We Don't Talk Anymore\tCharlie Puth\n",
      "user: 50         item: 5053       r_ui = 1.00   est = 1.00   {'was_impossible': False} LOSER\tBIGBANG\n",
      "user: 50         item: 5054       r_ui = 1.00   est = 1.00   {'was_impossible': False} Reality\tLost Frequencies\n",
      "user: 50         item: 4679       r_ui = 1.00   est = 1.00   {'was_impossible': False} Love Yourself\tJustin Bieber\n",
      "user: 50         item: 5055       r_ui = 1.00   est = 1.00   {'was_impossible': False} Alive\tSia\n",
      "user: 50         item: 5056       r_ui = 1.00   est = 1.00   {'was_impossible': False} Wherever I Go\tOneRepublic\n",
      "user: 50         item: 5057       r_ui = 1.00   est = 1.00   {'was_impossible': False} Sucker For Pain\tLil Wayne\n",
      "user: 50         item: 209        r_ui = 1.00   est = 1.00   {'was_impossible': False} 丑八怪\t薛之谦\n",
      "user: 50         item: 5058       r_ui = 1.00   est = 1.00   {'was_impossible': False} ピカチュウのうた\t大谷育江\n",
      "user: 50         item: 5059       r_ui = 1.00   est = 1.00   {'was_impossible': False} Send My Love (To Your New Lover)\tAdele\n",
      "user: 50         item: 2329       r_ui = 1.00   est = 1.00   {'was_impossible': False} 前世情人\t周杰伦\n",
      "user: 50         item: 5060       r_ui = 1.00   est = 1.00   {'was_impossible': False} Everglow (Single Version)\tColdplay\n",
      "user: 50         item: 5061       r_ui = 1.00   est = 1.00   {'was_impossible': False} Eyes Shut\tYears & Years\n",
      "user: 50         item: 958        r_ui = 1.00   est = 1.00   {'was_impossible': False} 骄傲的少年\t南征北战\n",
      "user: 50         item: 5062       r_ui = 1.00   est = 1.00   {'was_impossible': False} 渋谷川\t欅坂46\n",
      "user: 50         item: 5063       r_ui = 1.00   est = 1.00   {'was_impossible': False} Don't Let Me Down\tThe Chainsmokers\n",
      "user: 50         item: 5064       r_ui = 1.00   est = 1.00   {'was_impossible': False} 私らしく生きてみたい\tLittle Glee Monster\n",
      "user: 50         item: 5065       r_ui = 1.00   est = 1.00   {'was_impossible': False} Wildest Dreams (Acoustic)\tTaylor Swift\n",
      "user: 50         item: 5066       r_ui = 1.00   est = 1.00   {'was_impossible': False} ninelie\tAimer\n",
      "user: 50         item: 5067       r_ui = 1.00   est = 1.00   {'was_impossible': False} Roses\tThe Chainsmokers\n",
      "user: 50         item: 5068       r_ui = 1.00   est = 1.00   {'was_impossible': False} Final Song\tMØ\n",
      "user: 50         item: 5069       r_ui = 1.00   est = 1.00   {'was_impossible': False} CAN'T STOP THE FEELING! (Original Song From DreamWorks Animation's “Trolls”)\tJustin Timberlake\n",
      "user: 50         item: 5070       r_ui = 1.00   est = 1.00   {'was_impossible': False} 真夏の通り雨\t宇多田ヒカル\n",
      "user: 50         item: 5071       r_ui = 1.00   est = 1.00   {'was_impossible': False} Sing Me to Sleep\tAlan Walker\n",
      "user: 50         item: 5072       r_ui = 1.00   est = 1.00   {'was_impossible': False} Hotline Bling\tDrake\n",
      "user: 50         item: 5073       r_ui = 1.00   est = 1.00   {'was_impossible': False} Libre (feat. Emma) [Italian Version]\tAlvaro Soler\n",
      "user: 50         item: 5074       r_ui = 1.00   est = 1.00   {'was_impossible': False} The Hills\tThe Weeknd\n",
      "user: 50         item: 5075       r_ui = 1.00   est = 1.00   {'was_impossible': False} 花束を君に\t宇多田ヒカル\n",
      "user: 50         item: 5076       r_ui = 1.00   est = 1.00   {'was_impossible': False} 君はメロディー\tAKB48\n",
      "user: 50         item: 5077       r_ui = 1.00   est = 1.00   {'was_impossible': False} Can't Feel My Face\tThe Weeknd\n",
      "user: 50         item: 5078       r_ui = 1.00   est = 1.00   {'was_impossible': False} Butter-Fly -tri.Version-\t和田光司\n",
      "user: 50         item: 5079       r_ui = 1.00   est = 1.00   {'was_impossible': False} Stitches\tShawn Mendes\n",
      "user: 50         item: 5080       r_ui = 1.00   est = 1.00   {'was_impossible': False} Ride\ttwenty one pilots\n",
      "user: 50         item: 5081       r_ui = 1.00   est = 1.00   {'was_impossible': False} いけないボーダーライン加速版\tワルキューレ\n",
      "user: 50         item: 4676       r_ui = 1.00   est = 1.00   {'was_impossible': False} i hate u i love u\tgnash\n",
      "user: 50         item: 5082       r_ui = 1.00   est = 1.00   {'was_impossible': False} Stay\tKygo\n",
      "user: 50         item: 5083       r_ui = 1.00   est = 1.00   {'was_impossible': False} 明日への手紙\t手嶌葵\n",
      "user: 50         item: 5084       r_ui = 1.00   est = 1.00   {'was_impossible': False} FLASH\tPerfume\n",
      "user: 50         item: 5085       r_ui = 1.00   est = 1.00   {'was_impossible': False} Toothbrush\tDNCE\n",
      "user: 50         item: 5086       r_ui = 1.00   est = 1.00   {'was_impossible': False} Locked Away\tR. City\n",
      "user: 50         item: 5087       r_ui = 1.00   est = 1.00   {'was_impossible': False} さくらのうた\t高橋優\n",
      "user: 50         item: 5088       r_ui = 1.00   est = 1.00   {'was_impossible': False} Sorry\tJustin Bieber\n",
      "user: 50         item: 64         r_ui = 1.00   est = 1.00   {'was_impossible': False} 告白气球\t周杰伦\n",
      "user: 50         item: 1018       r_ui = 1.00   est = 1.00   {'was_impossible': False} 床边故事\t周杰伦\n",
      "user: 50         item: 5089       r_ui = 1.00   est = 1.00   {'was_impossible': False} ラストシーン\tいきものがかり\n",
      "user: 50         item: 5090       r_ui = 1.00   est = 1.00   {'was_impossible': False} On My Mind\tEllie Goulding\n",
      "user: 50         item: 5091       r_ui = 1.00   est = 1.00   {'was_impossible': False} 宝物\tFLOWER FLOWER\n",
      "user: 50         item: 5092       r_ui = 1.00   est = 1.00   {'was_impossible': False} 只知感觉失了踪\tDear Jane\n",
      "user: 50         item: 5093       r_ui = 1.00   est = 1.00   {'was_impossible': False} 光の破片\t高橋優\n",
      "user: 50         item: 5094       r_ui = 1.00   est = 1.00   {'was_impossible': False} A Head Full Of Dreams\tColdplay\n",
      "user: 50         item: 5095       r_ui = 1.00   est = 1.00   {'was_impossible': False} History\tOne Direction\n",
      "user: 50         item: 5096       r_ui = 1.00   est = 1.00   {'was_impossible': False} Renegades\tX Ambassadors\n"
     ]
    }
   ],
   "source": [
    "#内部编码的50号用户\n",
    "user_inner_id = 50\n",
    "user_rating = trainset.ur[user_inner_id]\n",
    "items = map(lambda x:x[0], user_rating)\n",
    "for song in items:\n",
    "    print(algo.predict(user_inner_id, song, r_ui=1), song_id_name_dic[algo.trainset.to_raw_iid(song)])"
   ]
  },
  {
   "cell_type": "markdown",
   "metadata": {},
   "source": [
    "### 2.用矩阵分解进行预测"
   ]
  },
  {
   "cell_type": "code",
   "execution_count": 10,
   "metadata": {
    "collapsed": true
   },
   "outputs": [],
   "source": [
    "### 使用NMF\n",
    "from surprise import NMF, evaluate\n",
    "from surprise import Dataset\n",
    "\n",
    "file_path = os.path.expanduser('popular_music_suprise_format.txt')\n",
    "# 指定文件格式\n",
    "reader = Reader(line_format='user item rating timestamp', sep=',')\n",
    "# 从文件读取数据\n",
    "music_data = Dataset.load_from_file(file_path, reader=reader)\n",
    "# 构建数据集和建模\n",
    "algo = NMF()\n",
    "trainset = music_data.build_full_trainset()\n",
    "algo.train(trainset)"
   ]
  },
  {
   "cell_type": "code",
   "execution_count": 17,
   "metadata": {},
   "outputs": [
    {
     "name": "stdout",
     "output_type": "stream",
     "text": [
      "user: 92509527   item: 27724082   r_ui = 1.00   est = 1.00   {u'was_impossible': False} 听见下雨的声音\t魏如昀\n",
      "user: 92509527   item: 167916     r_ui = 1.00   est = 1.00   {u'was_impossible': False} 梦一场\t萧敬腾\n",
      "user: 92509527   item: 408307325  r_ui = 1.00   est = 1.00   {u'was_impossible': False} 干杯\t西瓜Kune\n",
      "user: 92509527   item: 394618     r_ui = 1.00   est = 1.00   {u'was_impossible': False} 给自己的歌 (Live) - live\t纵贯线\n",
      "user: 92509527   item: 421423806  r_ui = 1.00   est = 1.00   {u'was_impossible': False} 小半\t陈粒\n",
      "user: 92509527   item: 394485     r_ui = 1.00   est = 1.00   {u'was_impossible': False} 思念是一种病(Live) - live\t张震岳\n",
      "user: 92509527   item: 5239563    r_ui = 1.00   est = 1.00   {u'was_impossible': False} 可以不可以\t丁当\n",
      "user: 92509527   item: 30635613   r_ui = 1.00   est = 1.00   {u'was_impossible': False} 秋酿\t房东的猫\n",
      "user: 92509527   item: 185884     r_ui = 1.00   est = 1.00   {u'was_impossible': False} 退后\t周杰伦\n",
      "user: 92509527   item: 276936     r_ui = 1.00   est = 1.00   {u'was_impossible': False} 阴天\t莫文蔚\n",
      "user: 92509527   item: 27867458   r_ui = 1.00   est = 1.00   {u'was_impossible': False} 痛爱\t容祖儿\n",
      "user: 92509527   item: 370776     r_ui = 1.00   est = 1.00   {u'was_impossible': False} 二十世纪少年(Unplugged) - unplug\tPing Pung\n",
      "user: 92509527   item: 213673     r_ui = 1.00   est = 1.00   {u'was_impossible': False} 前所未见\t陈慧琳\n",
      "user: 92509527   item: 355992     r_ui = 1.00   est = 1.00   {u'was_impossible': False} 追梦赤子心\tGALA\n",
      "user: 92509527   item: 326904     r_ui = 1.00   est = 1.00   {u'was_impossible': False} 如果你也听说\t张惠妹\n",
      "user: 92509527   item: 156099     r_ui = 1.00   est = 1.00   {u'was_impossible': False} 寄生\t吴克羣\n",
      "user: 92509527   item: 255219     r_ui = 1.00   est = 1.00   {u'was_impossible': False} 怎么唱情歌\t刘惜君\n",
      "user: 92509527   item: 33314587   r_ui = 1.00   est = 1.00   {u'was_impossible': False} 忽然之间\t巴士那\n",
      "user: 92509527   item: 287744     r_ui = 1.00   est = 1.00   {u'was_impossible': False} 烟霞\t容祖儿\n",
      "user: 92509527   item: 409650841  r_ui = 1.00   est = 1.00   {u'was_impossible': False} 小幸运\t双笙\n",
      "user: 92509527   item: 165005     r_ui = 1.00   est = 1.00   {u'was_impossible': False} 错过\t王铮亮\n",
      "user: 92509527   item: 307594     r_ui = 1.00   est = 1.00   {u'was_impossible': False} 泪海\t许茹芸\n",
      "user: 92509527   item: 276904     r_ui = 1.00   est = 1.00   {u'was_impossible': False} 外面的世界\t莫文蔚\n",
      "user: 92509527   item: 255973     r_ui = 1.00   est = 1.00   {u'was_impossible': False} 短发\t梁咏琪\n",
      "user: 92509527   item: 82561      r_ui = 1.00   est = 1.00   {u'was_impossible': False} 遗憾\t方炯镔\n",
      "user: 92509527   item: 316637     r_ui = 1.00   est = 1.00   {u'was_impossible': False} 假如让我说下去\t杨千嬅\n",
      "user: 92509527   item: 169617     r_ui = 1.00   est = 1.00   {u'was_impossible': False} 爱你\t许志安\n",
      "user: 92509527   item: 400074175  r_ui = 1.00   est = 1.00   {u'was_impossible': False} 你的手信\t陈慧敏\n",
      "user: 92509527   item: 307018     r_ui = 1.00   est = 1.00   {u'was_impossible': False} 遗憾\t许美静\n",
      "user: 92509527   item: 417833356  r_ui = 1.00   est = 1.00   {u'was_impossible': False} 无终\t谢春花\n",
      "user: 92509527   item: 408332757  r_ui = 1.00   est = 1.00   {u'was_impossible': False} 骄傲的少年\t南征北战\n",
      "user: 92509527   item: 26609894   r_ui = 1.00   est = 1.00   {u'was_impossible': False} 一个人一座城\t曹寅\n",
      "user: 92509527   item: 26418879   r_ui = 1.00   est = 1.00   {u'was_impossible': False} 好得很\t麦家瑜\n",
      "user: 92509527   item: 328169     r_ui = 1.00   est = 1.00   {u'was_impossible': False} 终身美丽\t郑秀文\n",
      "user: 92509527   item: 306709     r_ui = 1.00   est = 1.00   {u'was_impossible': False} 倾城\t许美静\n",
      "user: 92509527   item: 32507551   r_ui = 1.00   est = 1.00   {u'was_impossible': False} 想要你知道\t许亚童\n",
      "user: 92509527   item: 28661071   r_ui = 1.00   est = 1.00   {u'was_impossible': False} 忆她\t赵烁\n",
      "user: 92509527   item: 31134197   r_ui = 1.00   est = 1.00   {u'was_impossible': False} 边走边唱\t李荣浩\n",
      "user: 92509527   item: 36199595   r_ui = 1.00   est = 1.00   {u'was_impossible': False} 再见只是陌生人\t庄心妍\n",
      "user: 92509527   item: 370577     r_ui = 1.00   est = 1.00   {u'was_impossible': False} 每条伤心的大街\t飘乐队\n",
      "user: 92509527   item: 109174     r_ui = 1.00   est = 1.00   {u'was_impossible': False} 死结\t李玖哲\n",
      "user: 92509527   item: 413834900  r_ui = 1.00   est = 1.00   {u'was_impossible': False} 我是你的影子\tXun(易硕成)\n",
      "user: 92509527   item: 67032      r_ui = 1.00   est = 1.00   {u'was_impossible': False} 孤儿仔\t陈奕迅\n",
      "user: 92509527   item: 409650851  r_ui = 1.00   est = 1.00   {u'was_impossible': False} 霜雪千年\t双笙\n",
      "user: 92509527   item: 32334601   r_ui = 1.00   est = 1.00   {u'was_impossible': False} 想起小时候\t前冲\n",
      "user: 92509527   item: 299604     r_ui = 1.00   est = 1.00   {u'was_impossible': False} 给自己的情书\t王菲\n",
      "user: 92509527   item: 176999     r_ui = 1.00   est = 1.00   {u'was_impossible': False} 情非得已\t庾澄庆\n",
      "user: 92509527   item: 188815     r_ui = 1.00   est = 1.00   {u'was_impossible': False} 听说爱情回来过(Live) - live\t张敬轩\n",
      "user: 92509527   item: 256468     r_ui = 1.00   est = 1.00   {u'was_impossible': False} 至少还有你\t林忆莲\n",
      "user: 92509527   item: 35476048   r_ui = 1.00   est = 1.00   {u'was_impossible': False} 致自己\t齐一\n",
      "user: 92509527   item: 405343398  r_ui = 1.00   est = 1.00   {u'was_impossible': False} 可惜我不是他\tXun\n",
      "user: 92509527   item: 28668855   r_ui = 1.00   est = 1.00   {u'was_impossible': False} 恋人心\t魏新雨\n",
      "user: 92509527   item: 417596830  r_ui = 1.00   est = 1.00   {u'was_impossible': False} 美好事物\t房东的猫\n",
      "user: 92509527   item: 31284039   r_ui = 1.00   est = 1.00   {u'was_impossible': False} 你就要走了\t花粥\n",
      "user: 92509527   item: 35528482   r_ui = 1.00   est = 1.00   {u'was_impossible': False} 一半\t薛之谦\n",
      "user: 92509527   item: 30814948   r_ui = 1.00   est = 1.00   {u'was_impossible': False} 斑马斑马 - 翻唱\t房东的猫\n",
      "user: 92509527   item: 413829873  r_ui = 1.00   est = 1.00   {u'was_impossible': False} 还想听你的故事\t谢春花\n",
      "user: 92509527   item: 27867140   r_ui = 1.00   est = 1.00   {u'was_impossible': False} 房间\t刘瑞琦\n",
      "user: 92509527   item: 28936273   r_ui = 1.00   est = 1.00   {u'was_impossible': False} 狮子座(live)\t曾轶可\n",
      "user: 92509527   item: 185811     r_ui = 1.00   est = 1.00   {u'was_impossible': False} 青花瓷\t周杰伦\n",
      "user: 92509527   item: 95610      r_ui = 1.00   est = 1.00   {u'was_impossible': False} 目前\t洪卓立\n",
      "user: 92509527   item: 407927304  r_ui = 1.00   est = 1.00   {u'was_impossible': False} 月球下的人\t李幸倪\n",
      "user: 92509527   item: 5240138    r_ui = 1.00   est = 1.00   {u'was_impossible': False} 明明\t钟一宪\n",
      "user: 92509527   item: 33872719   r_ui = 1.00   est = 1.00   {u'was_impossible': False} 一棵会开花的树(demo)\t谢春花\n",
      "user: 92509527   item: 408814900  r_ui = 1.00   est = 1.00   {u'was_impossible': False} 借我\t谢春花\n",
      "user: 92509527   item: 27808044   r_ui = 1.00   est = 1.00   {u'was_impossible': False} 丑八怪\t薛之谦\n",
      "user: 92509527   item: 288075     r_ui = 1.00   est = 1.00   {u'was_impossible': False} 习惯失恋\t容祖儿\n",
      "user: 92509527   item: 65126      r_ui = 1.00   est = 1.00   {u'was_impossible': False} 红玫瑰\t陈奕迅\n",
      "user: 92509527   item: 30903117   r_ui = 1.00   est = 1.00   {u'was_impossible': False} 漂洋过海来看你\t周深\n",
      "user: 92509527   item: 92939      r_ui = 1.00   est = 1.00   {u'was_impossible': False} 那女孩对我说\t黄义达\n",
      "user: 92509527   item: 406730941  r_ui = 1.00   est = 1.00   {u'was_impossible': False} 后来\t群星\n",
      "user: 92509527   item: 29710981   r_ui = 1.00   est = 1.00   {u'was_impossible': False} 喜剧之王\t李荣浩\n",
      "user: 92509527   item: 22852057   r_ui = 1.00   est = 1.00   {u'was_impossible': False} 爱你\t陈芳语\n",
      "user: 92509527   item: 109628     r_ui = 1.00   est = 1.00   {u'was_impossible': False} 我爱你\t卢广仲\n",
      "user: 92509527   item: 30039685   r_ui = 1.00   est = 1.00   {u'was_impossible': False} 遇见你的时候所有星星都落到我头上\t高姗\n",
      "user: 92509527   item: 28798308   r_ui = 1.00   est = 1.00   {u'was_impossible': False} 一身诗意千寻瀑\t不才\n",
      "user: 92509527   item: 374621     r_ui = 1.00   est = 1.00   {u'was_impossible': False} 你在烦恼什么\t苏打绿\n",
      "user: 92509527   item: 27955777   r_ui = 1.00   est = 1.00   {u'was_impossible': False} 我为自己代言\t魏晨\n",
      "user: 92509527   item: 25706282   r_ui = 1.00   est = 1.00   {u'was_impossible': False} 夜空中最亮的星\t逃跑计划\n",
      "user: 92509527   item: 28563317   r_ui = 1.00   est = 1.00   {u'was_impossible': False} 阴天快乐\t陈奕迅\n",
      "user: 92509527   item: 329371     r_ui = 1.00   est = 1.00   {u'was_impossible': False} 原谅\t张玉华\n",
      "user: 92509527   item: 36270514   r_ui = 1.00   est = 1.00   {u'was_impossible': False} 放过自己\t庄心妍\n",
      "user: 92509527   item: 238114     r_ui = 1.00   est = 1.00   {u'was_impossible': False} 最好的我\t龚芝怡\n",
      "user: 92509527   item: 276035     r_ui = 1.00   est = 1.00   {u'was_impossible': False} 爱一点\t莫艳琳\n",
      "user: 92509527   item: 210326     r_ui = 1.00   est = 1.00   {u'was_impossible': False} 陪我看日出\t蔡淳佳\n",
      "user: 92509527   item: 25657348   r_ui = 1.00   est = 1.00   {u'was_impossible': False} 幸福了 然后呢\tA-Lin\n",
      "user: 92509527   item: 135355     r_ui = 1.00   est = 1.00   {u'was_impossible': False} 耿耿于怀\t麦浚龙\n",
      "user: 92509527   item: 81836      r_ui = 1.00   est = 1.00   {u'was_impossible': False} 不说出的温柔\t范逸臣\n",
      "user: 92509527   item: 26075548   r_ui = 1.00   est = 1.00   {u'was_impossible': False} 初爱\t杨宗纬\n",
      "user: 92509527   item: 31284032   r_ui = 1.00   est = 1.00   {u'was_impossible': False} 只不过是\t花粥\n",
      "user: 92509527   item: 31445772   r_ui = 1.00   est = 1.00   {u'was_impossible': False} 理想三旬\t陈鸿宇\n",
      "user: 92509527   item: 41665696   r_ui = 1.00   est = 1.00   {u'was_impossible': False} 小幸运（Cover 田馥甄）\t金玟岐\n",
      "user: 92509527   item: 325336     r_ui = 1.00   est = 1.00   {u'was_impossible': False} 那又如何\t应嘉俐\n",
      "user: 92509527   item: 31284031   r_ui = 1.00   est = 1.00   {u'was_impossible': False} 小相思\t花粥\n",
      "user: 92509527   item: 287398     r_ui = 1.00   est = 1.00   {u'was_impossible': False} 我不难过\t孙燕姿\n",
      "user: 92509527   item: 65601      r_ui = 1.00   est = 1.00   {u'was_impossible': False} 你看不到的天空\t蔡旻佑\n",
      "user: 92509527   item: 407679465  r_ui = 1.00   est = 1.00   {u'was_impossible': False} 耿耿于怀\t王笑文\n",
      "user: 92509527   item: 416890227  r_ui = 1.00   est = 1.00   {u'was_impossible': False} 试探\t王般若\n",
      "user: 92509527   item: 28606499   r_ui = 1.00   est = 1.00   {u'was_impossible': False} 有你陪伴的夏天\t黄婧\n",
      "user: 92509527   item: 399354289  r_ui = 1.00   est = 1.00   {u'was_impossible': False} 不说再见\t好妹妹乐队\n"
     ]
    }
   ],
   "source": [
    "user_inner_id = 4\n",
    "user_rating = trainset.ur[user_inner_id]\n",
    "items = map(lambda x:x[0], user_rating)\n",
    "for song in items:\n",
    "    print(algo.predict(algo.trainset.to_raw_uid(user_inner_id), algo.trainset.to_raw_iid(song), r_ui=1), song_id_name_dic[algo.trainset.to_raw_iid(song)])"
   ]
  },
  {
   "cell_type": "markdown",
   "metadata": {},
   "source": [
    "## 模型存储"
   ]
  },
  {
   "cell_type": "code",
   "execution_count": null,
   "metadata": {
    "collapsed": true
   },
   "outputs": [],
   "source": [
    "import surprise\n",
    "surprise.dump.dump('./recommendation.model', algo=algo)\n",
    "# 可以用下面的方式载入\n",
    "algo = surprise.dump.load('./recommendation.model')"
   ]
  },
  {
   "cell_type": "markdown",
   "metadata": {},
   "source": [
    "## 不同的推荐系统算法评估"
   ]
  },
  {
   "cell_type": "markdown",
   "metadata": {},
   "source": [
    "### 首先载入数据"
   ]
  },
  {
   "cell_type": "code",
   "execution_count": 23,
   "metadata": {
    "collapsed": true
   },
   "outputs": [],
   "source": [
    "import os\n",
    "from surprise import Reader, Dataset\n",
    "# 指定文件路径\n",
    "file_path = os.path.expanduser('./popular_music_suprise_format.txt')\n",
    "# 指定文件格式\n",
    "reader = Reader(line_format='user item rating timestamp', sep=',')\n",
    "# 从文件读取数据\n",
    "music_data = Dataset.load_from_file(file_path, reader=reader)\n",
    "# 分成5折\n",
    "music_data.split(n_folds=5)"
   ]
  },
  {
   "cell_type": "code",
   "execution_count": null,
   "metadata": {
    "collapsed": true
   },
   "outputs": [],
   "source": [
    "music_data"
   ]
  },
  {
   "cell_type": "code",
   "execution_count": null,
   "metadata": {
    "collapsed": true
   },
   "outputs": [],
   "source": [
    "music_data.raw_ratings[:20]"
   ]
  },
  {
   "cell_type": "code",
   "execution_count": null,
   "metadata": {
    "collapsed": true
   },
   "outputs": [],
   "source": [
    "### 使用NormalPredictor\n",
    "from surprise import NormalPredictor, evaluate\n",
    "algo = NormalPredictor()\n",
    "perf = evaluate(algo, music_data, measures=['RMSE', 'MAE'])"
   ]
  },
  {
   "cell_type": "code",
   "execution_count": null,
   "metadata": {
    "collapsed": true
   },
   "outputs": [],
   "source": [
    "### 使用BaselineOnly\n",
    "from surprise import BaselineOnly, evaluate\n",
    "algo = BaselineOnly()\n",
    "perf = evaluate(algo, music_data, measures=['RMSE', 'MAE'])"
   ]
  },
  {
   "cell_type": "code",
   "execution_count": null,
   "metadata": {
    "collapsed": true
   },
   "outputs": [],
   "source": [
    "### 使用基础版协同过滤\n",
    "from surprise import KNNBasic, evaluate\n",
    "algo = KNNBasic()\n",
    "perf = evaluate(algo, music_data, measures=['RMSE', 'MAE'])"
   ]
  },
  {
   "cell_type": "code",
   "execution_count": null,
   "metadata": {
    "collapsed": true
   },
   "outputs": [],
   "source": [
    "### 使用均值协同过滤\n",
    "from surprise import KNNWithMeans, evaluate\n",
    "algo = KNNWithMeans()\n",
    "perf = evaluate(algo, music_data, measures=['RMSE', 'MAE'])"
   ]
  },
  {
   "cell_type": "code",
   "execution_count": null,
   "metadata": {
    "collapsed": true
   },
   "outputs": [],
   "source": [
    "### 使用协同过滤baseline\n",
    "from surprise import KNNBaseline, evaluate\n",
    "algo = KNNBaseline()\n",
    "perf = evaluate(algo, music_data, measures=['RMSE', 'MAE'])"
   ]
  },
  {
   "cell_type": "code",
   "execution_count": null,
   "metadata": {
    "collapsed": true
   },
   "outputs": [],
   "source": [
    "### 使用SVD\n",
    "from surprise import SVD, evaluate\n",
    "algo = SVD()\n",
    "perf = evaluate(algo, music_data, measures=['RMSE', 'MAE'])"
   ]
  },
  {
   "cell_type": "code",
   "execution_count": null,
   "metadata": {
    "collapsed": true
   },
   "outputs": [],
   "source": [
    "### 使用SVD++\n",
    "from surprise import SVDpp, evaluate\n",
    "algo = SVDpp()\n",
    "perf = evaluate(algo, music_data, measures=['RMSE', 'MAE'])"
   ]
  },
  {
   "cell_type": "code",
   "execution_count": null,
   "metadata": {
    "collapsed": true
   },
   "outputs": [],
   "source": [
    "### 使用NMF\n",
    "from surprise import NMF\n",
    "algo = NMF()\n",
    "perf = evaluate(algo, music_data, measures=['RMSE', 'MAE'])\n",
    "print_perf(perf)"
   ]
  }
 ],
 "metadata": {
  "kernelspec": {
   "display_name": "Python 3",
   "language": "python",
   "name": "python3"
  },
  "language_info": {
   "codemirror_mode": {
    "name": "ipython",
    "version": 3
   },
   "file_extension": ".py",
   "mimetype": "text/x-python",
   "name": "python",
   "nbconvert_exporter": "python",
   "pygments_lexer": "ipython3",
   "version": "3.7.2"
  }
 },
 "nbformat": 4,
 "nbformat_minor": 1
}
